{
 "cells": [
  {
   "cell_type": "markdown",
   "metadata": {},
   "source": [
    "# Quantum Order Finding"
   ]
  },
  {
   "cell_type": "markdown",
   "metadata": {},
   "source": [
    "Import some useful Python packages"
   ]
  },
  {
   "cell_type": "code",
   "execution_count": 2,
   "metadata": {},
   "outputs": [],
   "source": [
    "from qiskit import*\n",
    "import math\n",
    "import numpy as np"
   ]
  },
  {
   "cell_type": "markdown",
   "metadata": {},
   "source": [
    "1. Given positive integers $b$ and $M$ such that $b < M$ and gcd($b,M$) = 1, write a classical algorithm to find the order $r$ of $b$ modulo $M$."
   ]
  },
  {
   "cell_type": "code",
   "execution_count": 3,
   "metadata": {},
   "outputs": [
    {
     "name": "stdout",
     "output_type": "stream",
     "text": [
      "The order of b=7 modulo M=15 is r=4\n"
     ]
    }
   ],
   "source": [
    "b = 7\n",
    "M = 15\n",
    "# Put your code here.\n",
    "r=0\n",
    "for i in range(1, M+1):\n",
    "    if b ** i % M == 1:\n",
    "        r= i\n",
    "        break\n",
    "\n",
    "# Output\n",
    "print(\"The order of b=\" + str(b) + \" modulo M=\" + str(M) + \" is r=\" + str(r))"
   ]
  },
  {
   "cell_type": "markdown",
   "metadata": {},
   "source": [
    "2. Given $b$ and $M$ as above and some integer $n$, print a table of $x$ and $y = b^x \\; \\mathsf{mod} \\; M$ for $x \\in \\{0, \\ldots, 2^n-1\\}$."
   ]
  },
  {
   "cell_type": "code",
   "execution_count": 4,
   "metadata": {},
   "outputs": [
    {
     "name": "stdout",
     "output_type": "stream",
     "text": [
      "x is 1 y is 7\n",
      "x is 2 y is 4\n",
      "x is 3 y is 13\n",
      "x is 4 y is 1\n",
      "x is 5 y is 7\n",
      "x is 6 y is 4\n",
      "x is 7 y is 13\n"
     ]
    }
   ],
   "source": [
    "n = 3\n",
    "b = 7\n",
    "M = 15\n",
    "# Put your code here.\n",
    "for i in range(1, 2**n):\n",
    "    print('x is', i, 'y is', b** i % M)\n"
   ]
  },
  {
   "cell_type": "markdown",
   "metadata": {},
   "source": [
    "For your convenience, below are the function definitions for the Quantum Fourier Transform (qft) and its inverse (iqft)."
   ]
  },
  {
   "cell_type": "code",
   "execution_count": 5,
   "metadata": {},
   "outputs": [],
   "source": [
    "def qft(qc, q):\n",
    "    # qc is a quantum circuit containing the quantum register q.\n",
    "    # The function applies the Quantum Fourier Transform to q.\n",
    "    \n",
    "    # determine the number of qubits in the register\n",
    "    n = len(q)\n",
    "    \n",
    "    # apply Hadamard gates and controlled rotations\n",
    "    for j in range(n-1, -1, -1):\n",
    "        qc.h(q[j])\n",
    "        for k in range(j-1, -1, -1):\n",
    "            qc.cu1(2*np.pi*2**(-(j-k+1)), q[k], q[j])\n",
    "    \n",
    "    # reverse the order of the qubits\n",
    "    for l in range(int(np.floor(n/2))):\n",
    "        qc.swap(q[l], q[n-1-l])"
   ]
  },
  {
   "cell_type": "code",
   "execution_count": 6,
   "metadata": {},
   "outputs": [],
   "source": [
    "def iqft(qc, q):\n",
    "    # qc is a quantum circuit containing the quantum register q.\n",
    "    # The function applies the Inverse Quantum Fourier Transform to q.\n",
    "    \n",
    "    # determine the number of qubits in the register\n",
    "    n = len(q)\n",
    "    \n",
    "    # reverse the order of the qubits\n",
    "    for l in range(int(np.floor(n/2))):\n",
    "        qc.swap(q[l], q[n-1-l])\n",
    "    \n",
    "    # apply Hadamard gates and controlled rotations\n",
    "    for j in range(n):\n",
    "        for k in range(j):\n",
    "            qc.cu1(-2*np.pi*2**(-(j-k+1)), q[k], q[j])\n",
    "        qc.h(q[j])"
   ]
  },
  {
   "cell_type": "markdown",
   "metadata": {},
   "source": [
    "3. Define below the function $V_{7,15}$ per the circuit diagram on slide 7 of Lecture 17.  Note that $\\oplus$ is a NOT gate."
   ]
  },
  {
   "cell_type": "code",
   "execution_count": 17,
   "metadata": {},
   "outputs": [],
   "source": [
    "def V7mod15(qc, qx, qy):\n",
    "    # qc is a quantum circuit with quantum registers qx and qy\n",
    "    # qx has at least 2 qubits; qy has at least 4 qubits\n",
    "    # transforms |x, 1> to |x,y> = |x, 7**x % 15>\n",
    "    qc.x(qy[2])\n",
    "    \n",
    "    qc.x(qx[0])\n",
    "    qc.ccx(qx[0],qx[1],qy[0])\n",
    "    qc.x(qx[0])\n",
    "    \n",
    "    qc.x(qx[1])\n",
    "    qc.ccx(qx[0],qx[1],qy[1])\n",
    "    qc.x(qx[1])\n",
    "    \n",
    "    qc.x(qx[0])\n",
    "    qc.x(qx[1])\n",
    "    qc.ccx(qx[0],qx[1],qy[2])\n",
    "    qc.x(qx[0])\n",
    "    qc.x(qx[1])\n",
    "    \n",
    "    qc.ccx(qx[0],qx[1],qy[3])\n",
    "    \n",
    "    \n",
    "    \n",
    "    \n",
    "    \n",
    "    \n",
    "    \n",
    "    \n",
    "    \n",
    "    # Put your code here.\n"
   ]
  },
  {
   "cell_type": "markdown",
   "metadata": {},
   "source": [
    "The functions $V_{11,15}$ and $V_{4,21}$ are defined below for your convenience."
   ]
  },
  {
   "cell_type": "code",
   "execution_count": 8,
   "metadata": {},
   "outputs": [],
   "source": [
    "def V11mod15(qc, qx, qy):\n",
    "    # qc is a quantum circuit with quantum registers qx and qy\n",
    "    # qx has at least 1 qubit; qy has at least 4 qubits\n",
    "    # transforms |x, 1> to |x,y> = |x, 11**x % 15>\n",
    "    \n",
    "    # x = 0 implies y = 0001\n",
    "    # x = 1 implies y = 1011\n",
    "    qc.cx(qx[0], qy[1])\n",
    "    qc.cx(qx[0], qy[3])"
   ]
  },
  {
   "cell_type": "code",
   "execution_count": 9,
   "metadata": {},
   "outputs": [],
   "source": [
    "def V4mod21(qc, qx, qy):\n",
    "    # qc is a quantum circuit with quantum registers qx and qy\n",
    "    # qx has at least 2 qubit; qy has at least 5 qubits\n",
    "    # transforms |x, 1> to |x,y> = |x, 4**x % 21>\n",
    "    \n",
    "    qc.x(qy[0])\n",
    "    # x = 00 implies y = 00001\n",
    "    qc.x(qx[0])\n",
    "    qc.x(qx[1])\n",
    "    qc.ccx(qx[0], qx[1], qy[0])\n",
    "    qc.x(qx[1])\n",
    "    qc.x(qx[0])\n",
    "    # x = 01 implies y = 00100\n",
    "    qc.x(qx[1])\n",
    "    qc.ccx(qx[0], qx[1], qy[2])\n",
    "    qc.x(qx[1])\n",
    "    # x = 10 implies y = 10000\n",
    "    qc.x(qx[0])\n",
    "    qc.ccx(qx[0], qx[1], qy[4])\n",
    "    qc.x(qx[0])\n",
    "    # x = 11 implies y = 00001\n",
    "    qc.ccx(qx[0], qx[1], qy[0])"
   ]
  },
  {
   "cell_type": "code",
   "execution_count": 10,
   "metadata": {},
   "outputs": [
    {
     "name": "stdout",
     "output_type": "stream",
     "text": [
      "{'000 00101': 1024}\n",
      "{'001 00101': 1024}\n",
      "{'010 00101': 1024}\n",
      "{'011 00101': 1024}\n",
      "{'100 00011': 1024}\n",
      "{'101 00011': 1024}\n",
      "{'110 01100': 1024}\n",
      "{'111 01100': 1024}\n"
     ]
    }
   ],
   "source": [
    "# Verify that your VbmodM function is working properly.\n",
    "\n",
    "# choose n and m appropriately\n",
    "n = 3\n",
    "m = 5\n",
    "\n",
    "# loop over all possible values of x\n",
    "for x in range(2**n):\n",
    "    \n",
    "    # set up quantum registers qx, qy and classical registers cx, cy\n",
    "    qx = qiskit.QuantumRegister(n)\n",
    "    qy = qiskit.QuantumRegister(m)\n",
    "    cx = qiskit.ClassicalRegister(len(qx))\n",
    "    cy = qiskit.ClassicalRegister(len(qy))\n",
    "    qc = qiskit.QuantumCircuit(qy, qx, cy, cx)\n",
    "    \n",
    "    # apply NOT gates to set the input register to x\n",
    "    for k in range(n):\n",
    "        if (math.floor(x/2**k) % 2 == 1):\n",
    "            qc.x(qx[k])\n",
    "    \n",
    "    # initialize the output register to 1\n",
    "    qc.x(qy[0])\n",
    "    \n",
    "    # apply the VbmodM function\n",
    "    V7mod15(qc, qx, qy)\n",
    "    \n",
    "    # specify measurement gates for the input and output registers\n",
    "    for i in range(len(qx)):\n",
    "        qc.measure(qx[i], cx[i])\n",
    "    for j in range(len(qy)):\n",
    "        qc.measure(qy[j], cy[j])\n",
    "\n",
    "    # execute the quantum circuit\n",
    "    backend=qiskit.Aer.get_backend('qasm_simulator')\n",
    "    job = qiskit.execute(qc, backend, shots=1024)\n",
    "    data = job.result().get_counts(qc)\n",
    "    print(data)\n",
    "    \n",
    "    # Compare the results to those of the table computed in part 2."
   ]
  },
  {
   "cell_type": "markdown",
   "metadata": {},
   "source": [
    "4. Implement the quantum order-finding algorithm and determine the value of r for each $V_{b,M}$ function."
   ]
  },
  {
   "cell_type": "code",
   "execution_count": 19,
   "metadata": {},
   "outputs": [
    {
     "name": "stdout",
     "output_type": "stream",
     "text": [
      "{'00': 279, '01': 245, '10': 246, '11': 254}\n"
     ]
    }
   ],
   "source": [
    "# Put your code here.\n",
    "n=2\n",
    "m=4\n",
    "qx = qiskit.QuantumRegister(n)\n",
    "qy = qiskit.QuantumRegister(m)\n",
    "c = qiskit.ClassicalRegister(n)\n",
    "qc = qiskit.QuantumCircuit(qx,qy,c)\n",
    "qc.x(qy[0])\n",
    "qc.h(qx)\n",
    "V7mod15(qc,qx,qy)\n",
    "iqft(qc, qx)\n",
    "for i in range(n):\n",
    "    qc.measure(qx[i],c[i])\n",
    "    \n",
    "backend = Aer.get_backend('qasm_simulator')\n",
    "job = execute(qc, backend, shots=1024)\n",
    "result = job.result() \n",
    "counts=result.get_counts(qc)\n",
    "print(counts)    \n",
    "    "
   ]
  },
  {
   "cell_type": "markdown",
   "metadata": {},
   "source": [
    "5. What value of $r$ do you get for each of the three functions $V_{7,15}$, $V_{11,15}$, and $V_{4,21}$?  Explain how you arrived at your answers."
   ]
  },
  {
   "cell_type": "markdown",
   "metadata": {},
   "source": [
    "For 7mod15, the LCM(4,2,4) turns out to be 4, which is a power of 2; \n",
    "the order from this algorithm is correct as 7^4mod15 is 1."
   ]
  },
  {
   "cell_type": "code",
   "execution_count": 61,
   "metadata": {},
   "outputs": [
    {
     "name": "stdout",
     "output_type": "stream",
     "text": [
      "{'1': 500, '0': 524}\n"
     ]
    }
   ],
   "source": [
    "n=1\n",
    "m=4\n",
    "qx = qiskit.QuantumRegister(n)\n",
    "qy = qiskit.QuantumRegister(m)\n",
    "c = qiskit.ClassicalRegister(n)\n",
    "qc = qiskit.QuantumCircuit(qx,qy,c)\n",
    "qc.x(qy[0])\n",
    "qc.h(qx)\n",
    "V11mod15(qc,qx,qy)\n",
    "iqft(qc, qx)\n",
    "for i in range(n):\n",
    "    qc.measure(qx[i],c[i])\n",
    "    \n",
    "backend = Aer.get_backend('qasm_simulator')\n",
    "job = execute(qc, backend, shots=1024)\n",
    "result = job.result() \n",
    "counts=result.get_counts(qc)\n",
    "print(counts)    \n",
    "      \n",
    "    "
   ]
  },
  {
   "cell_type": "markdown",
   "metadata": {},
   "source": [
    "The LCM(2) is 2. This works because it is a power of 2, and  11^2mod15 is 1."
   ]
  },
  {
   "cell_type": "code",
   "execution_count": 59,
   "metadata": {},
   "outputs": [
    {
     "name": "stdout",
     "output_type": "stream",
     "text": [
      "{'00': 408, '01': 243, '10': 129, '11': 244}\n"
     ]
    }
   ],
   "source": [
    "\n",
    "n=2\n",
    "m=5\n",
    "qx = qiskit.QuantumRegister(n)\n",
    "qy = qiskit.QuantumRegister(m)\n",
    "c = qiskit.ClassicalRegister(n)\n",
    "qc = qiskit.QuantumCircuit(qx,qy,c)\n",
    "qc.x(qy[0])\n",
    "qc.h(qx)\n",
    "V4mod21(qc,qx,qy)\n",
    "iqft(qc, qx)\n",
    "for i in range(n):\n",
    "    qc.measure(qx[i],c[i])\n",
    "    \n",
    "backend = Aer.get_backend('qasm_simulator')\n",
    "job = execute(qc, backend, shots=1024)\n",
    "result = job.result() \n",
    "counts=result.get_counts(qc)\n",
    "print(counts)    "
   ]
  },
  {
   "cell_type": "markdown",
   "metadata": {},
   "source": [
    "The algorithm fails in this case because r is not a power of 2. r is 3, and because s/r is equivalent to 1/2^p , there is no way 3 can be formed from 2^p. more calculations needed"
   ]
  },
  {
   "cell_type": "code",
   "execution_count": null,
   "metadata": {},
   "outputs": [],
   "source": []
  },
  {
   "cell_type": "code",
   "execution_count": null,
   "metadata": {},
   "outputs": [],
   "source": []
  }
 ],
 "metadata": {
  "kernelspec": {
   "display_name": "Python 3",
   "language": "python",
   "name": "python3"
  },
  "language_info": {
   "codemirror_mode": {
    "name": "ipython",
    "version": 3
   },
   "file_extension": ".py",
   "mimetype": "text/x-python",
   "name": "python",
   "nbconvert_exporter": "python",
   "pygments_lexer": "ipython3",
   "version": "3.7.4"
  }
 },
 "nbformat": 4,
 "nbformat_minor": 2
}
