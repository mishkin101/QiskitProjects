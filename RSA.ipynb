{
 "cells": [
  {
   "cell_type": "markdown",
   "metadata": {},
   "source": [
    "# RSA Encryption"
   ]
  },
  {
   "cell_type": "markdown",
   "metadata": {},
   "source": [
    "Below are two Python functions that may be used for generating large prime numbers."
   ]
  },
  {
   "cell_type": "code",
   "execution_count": 83,
   "metadata": {},
   "outputs": [
    {
     "data": {
      "text/plain": [
       "75017021989362269278564062821115446890627444684398270294505565830410946417921"
      ]
     },
     "execution_count": 83,
     "metadata": {},
     "output_type": "execute_result"
    }
   ],
   "source": [
    "import math\n",
    "import numpy as np\n",
    "from random import randint\n",
    "\n",
    "def is_prime(num, test_count):\n",
    "    # Use a sample of test_count numbers to check if num is prime.\n",
    "    # The algorithm uses the (probabilistic) Fermat primality test.\n",
    "    \n",
    "    # Check the obvious cases.\n",
    "    if num == 1:\n",
    "        return False\n",
    "    if num % 2 == 0:\n",
    "        return False\n",
    "    \n",
    "    # There's no point testing more numbers than are possible.\n",
    "    if test_count >= num:\n",
    "        test_count = num - 1\n",
    "        \n",
    "    for x in range(test_count):\n",
    "        val = randint(1, num-1)\n",
    "        # val and num are co-prime if val**(num-1) % num = 1.\n",
    "        # (Fermat's little theorem)\n",
    "        if pow(val, num-1, num) != 1:\n",
    "            # Exit function and return False if a factor is found.\n",
    "            return False\n",
    "    \n",
    "    # If no factors are found, assume that num is prime.\n",
    "    # (Note that num might not actually be prime!)\n",
    "    return True\n",
    "\n",
    "def generate_big_prime(n, test_count=1):\n",
    "    # returns a random prime number of length n bits\n",
    "    \n",
    "    found_prime = False\n",
    "    while not found_prime:\n",
    "        p = randint(2**(n-1), 2**n)\n",
    "        # Check test_count samples to see if p is prime.\n",
    "        if is_prime(p, test_count):\n",
    "            return p\n",
    "        \n",
    "generate_big_prime(256)"
   ]
  },
  {
   "cell_type": "markdown",
   "metadata": {},
   "source": [
    "Write some Python code below that generates a public key (e, N) and private key (d, N) as described in Lecture 13.  Choose for N an 8-bit integer."
   ]
  },
  {
   "cell_type": "code",
   "execution_count": 84,
   "metadata": {},
   "outputs": [
    {
     "name": "stdout",
     "output_type": "stream",
     "text": [
      "q is 137\n",
      "p is 151\n",
      "M is 20400\n",
      "e is 14233\n",
      "N is 20687\n",
      "d is 4297.0\n",
      "k is 2998\n",
      "Prime Factorization: 20687 = 151 * 137\n",
      "Public Key: (14233, 20687)\n",
      "Private Key: (4297.0, 20687)\n"
     ]
    }
   ],
   "source": [
    "# Put your code here.\n",
    "\n",
    "#need to check 7d mod M and 1 mod M, where M is the totient. 7D / mod == 1. 7D can be any multiple of totient\n",
    "#think of it as 7D mod totient ==1 to make it easier.\n",
    "# Choose p and q\n",
    "#want to generate a 4 bit prime for p and q bc 4 *2 = 8 bit M\n",
    "#want n to be the same for both p and q \n",
    "n = 8\n",
    "p=0\n",
    "q=0\n",
    "while  p == q:\n",
    "    p = generate_big_prime(n)\n",
    "    q = generate_big_prime(n)\n",
    "print('q is',q)\n",
    "print('p is',p)\n",
    "# Compute e\n",
    "#co-prime number is a prime number and non-prime number or 2 non-prime numbers; any 2 prime numbers are co-prime numbers\n",
    "M = (q-1)*(p-1) #totient\n",
    "print('M is', M)\n",
    "N= q*p\n",
    "\n",
    "\n",
    "e = randint(1, M)\n",
    "g = math.gcd(e, M)\n",
    "while g != 1:\n",
    "        e= randint(1,M)\n",
    "        g = math.gcd(e, M)\n",
    "print('e is',e)\n",
    "# Compute d\n",
    "d=0\n",
    "k=1\n",
    "con_fac=int((1+ (k*M))/e)\n",
    "while (d*e)% M != 1  or (1+ (k*M))%e != 0:\n",
    "    k+=1\n",
    "    d=(1+ (k*M))/e\n",
    "    \n",
    "print('N is', N)    \n",
    "print('d is', d)\n",
    "print('k is', k)\n",
    "    \n",
    "    \n",
    "\n",
    "\n",
    "print(\"Prime Factorization: \" + str(N) + \" = \" + str(p) + \" * \" + str(q))\n",
    "print(\"Public Key: \" + \"(\" + str(e) + \", \" + str(N) + \")\")\n",
    "print(\"Private Key: \" + \"(\" + str(d) + \", \" + str(N) + \")\")"
   ]
  },
  {
   "cell_type": "markdown",
   "metadata": {},
   "source": [
    "Write some Python code that generates a random integer message x < N.\n",
    "Use the public key from above to construct the encrypted message y."
   ]
  },
  {
   "cell_type": "code",
   "execution_count": 85,
   "metadata": {},
   "outputs": [
    {
     "name": "stdout",
     "output_type": "stream",
     "text": [
      "Unencrypted Message: x = 9252\n",
      "Encrypted Message: y = 13348\n"
     ]
    }
   ],
   "source": [
    "# Put your code here.\n",
    "publickey = (e, N)\n",
    "x=randint(1, N)\n",
    "y=pow(x, e, N)\n",
    "\n",
    "print(\"Unencrypted Message: x = \" + str(x))\n",
    "print(\"Encrypted Message: y = \" + str(y))"
   ]
  },
  {
   "cell_type": "markdown",
   "metadata": {},
   "source": [
    "Now, use the private key to decrypt the encrypted message y.  Do you recover the original message?"
   ]
  },
  {
   "cell_type": "code",
   "execution_count": 86,
   "metadata": {},
   "outputs": [
    {
     "name": "stdout",
     "output_type": "stream",
     "text": [
      "Decrypted Message: 9252\n"
     ]
    }
   ],
   "source": [
    "# Put your code here.\n",
    "x_decrypted = pow(y, int(d), N)\n",
    "print(\"Decrypted Message: \" + str(x_decrypted))"
   ]
  },
  {
   "cell_type": "markdown",
   "metadata": {},
   "source": [
    "Write a function to determine the prime factors of N using a brute-force search.  Use this to infer the private key.  Does it correctly decrypt the message y?"
   ]
  },
  {
   "cell_type": "code",
   "execution_count": 88,
   "metadata": {},
   "outputs": [
    {
     "name": "stdout",
     "output_type": "stream",
     "text": [
      "values are 137 151\n",
      "e is 14233\n",
      "Hacked Factorization: 20687 = 137 * 151\n",
      "Hacked Private Key: (4297, 20687)\n",
      "Hacked Message: 9252\n"
     ]
    }
   ],
   "source": [
    "def brute_force_factor(N):\n",
    "    p=2\n",
    "    q=int(N/2)\n",
    "    search_space = int(math.sqrt(N)) + 1\n",
    "    for i in range(3, search_space,2):\n",
    "        if N % i == 0 and is_prime(i,1):\n",
    "            p= i\n",
    "            q= int(N/i)\n",
    "            return p,q\n",
    "            \n",
    "    return p,q\n",
    "      \n",
    "p_hacked, q_hacked = brute_force_factor(N)\n",
    "print('values are',p_hacked, q_hacked)\n",
    "# Compute d_hacked (Note: It could be different from the one above.)\n",
    "M_h=(p_hacked-1)*(q_hacked-1)\n",
    "#use the same e, which is given in the public key\n",
    "print('e is',e)\n",
    "\n",
    "# Compute d\n",
    "d_hacked = 0\n",
    "k_h = 1\n",
    "while (d_hacked*e)% M_h != 1 or (1+ (k_h*M_h))%e != 0:\n",
    "    k_h+=1\n",
    "    d_hacked= int((1+ (k_h*M_h))/e)\n",
    "    \n",
    "\n",
    "x_hacked=pow(y, int(d), N)\n",
    "\n",
    "print(\"Hacked Factorization: \" + str(N) + \" = \" + str(p_hacked) + \" * \" + str(q_hacked))\n",
    "print(\"Hacked Private Key: \" + \"(\" + str(d_hacked) + \", \" + str(N) + \")\")\n",
    "print(\"Hacked Message: \" + str(x_hacked))"
   ]
  },
  {
   "cell_type": "markdown",
   "metadata": {},
   "source": [
    "I assume most of the time it does, at least  for all the cases I've run. Its because we have restricted the search space to sqrt(N) and we take advantage of the fact that N is a factor of two prime numbers which should be the only factors always.If we did not know this beforhand, then we would have to do another approach."
   ]
  },
  {
   "cell_type": "markdown",
   "metadata": {},
   "source": [
    "Share your public key and encrypted message with someone else.  Can you hack their encryption?"
   ]
  },
  {
   "cell_type": "markdown",
   "metadata": {},
   "source": [
    "Public Key: (16673, 22663)\n",
    "from brute force:\n",
    "values are 131 173\n",
    "e is 16673\n",
    "Hacked Factorization: 22663 = 131 * 173\n",
    "Hacked Private Key: (2017, 22663)\n",
    "Hacked Message: 13367\n",
    "Private Key: (2017, 22663)"
   ]
  },
  {
   "cell_type": "code",
   "execution_count": null,
   "metadata": {},
   "outputs": [],
   "source": []
  }
 ],
 "metadata": {
  "kernelspec": {
   "display_name": "Python 3",
   "language": "python",
   "name": "python3"
  },
  "language_info": {
   "codemirror_mode": {
    "name": "ipython",
    "version": 3
   },
   "file_extension": ".py",
   "mimetype": "text/x-python",
   "name": "python",
   "nbconvert_exporter": "python",
   "pygments_lexer": "ipython3",
   "version": "3.7.4"
  }
 },
 "nbformat": 4,
 "nbformat_minor": 2
}
