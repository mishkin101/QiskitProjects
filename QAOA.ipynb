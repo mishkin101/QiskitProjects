{
 "cells": [
  {
   "cell_type": "markdown",
   "metadata": {},
   "source": [
    "## QAOA Homework\n",
    "### Quantum Computing FRI Stream Fall 2019"
   ]
  },
  {
   "cell_type": "markdown",
   "metadata": {},
   "source": [
    "#### The aim of this project is to use your knowledge of quantum simulation and the quantum approximate optimization algorithm to solve an optimization problem. You will need to figure out how to represent your problem in quantum terms and then use your Hamiltonian to construct the state necessary for QAOA. Use an 8 qubit input space (8 vertices on the graph) and sample across the ranges of the parameters, $\\gamma$ and $\\beta$, in order to get an idea of where the cost function is the highest and lowest."
   ]
  },
  {
   "cell_type": "raw",
   "metadata": {},
   "source": []
  },
  {
   "cell_type": "markdown",
   "metadata": {},
   "source": [
    "### 1. Choose and describe the problem you'd like to solve:\n",
    "#### Max-Clique, Weighted Max-Cut, Weighted MAX-SAT, Weighted Graph Coloring, Ising Model"
   ]
  },
  {
   "cell_type": "markdown",
   "metadata": {},
   "source": [
    "Given a graph with weighted edges, is there a subset S of vertices such that the edges connecting S and the complement of S have collective weight of at least W?"
   ]
  },
  {
   "cell_type": "markdown",
   "metadata": {},
   "source": [
    "### 2. Cast the problem as an optimization problem."
   ]
  },
  {
   "cell_type": "markdown",
   "metadata": {},
   "source": [
    "Given a graph with weighted edges, find a subset S of the vertices such that the weight of the edges separating the two subsets is maximized!"
   ]
  },
  {
   "cell_type": "markdown",
   "metadata": {},
   "source": [
    "### 3. Write out a general cost function for the problem. This can be the Hamiltonian for the system. "
   ]
  },
  {
   "cell_type": "markdown",
   "metadata": {},
   "source": [
    "$$C=\\sum_{i,j} C_{i,j}$$"
   ]
  },
  {
   "cell_type": "markdown",
   "metadata": {},
   "source": [
    "$$C_{i,j}=\\frac{1}{2}({I-Z_{i}Z_{j}})$$"
   ]
  },
  {
   "cell_type": "markdown",
   "metadata": {},
   "source": [
    "### 4. Use your cost function to construct a general constraint operator (called V in the lectures)."
   ]
  },
  {
   "cell_type": "markdown",
   "metadata": {},
   "source": [
    "$$V(\\gamma)=e^{-i\\gamma\\sum_{i,j} \\frac{1}{2}(I-Z_{i}Z_{j})}$$"
   ]
  },
  {
   "cell_type": "markdown",
   "metadata": {},
   "source": [
    "$$V(\\gamma)=e^{-i\\gamma C}$$\n",
    "$$V(\\gamma)=e^{-i\\gamma\\sum_{i,j} C_{i,j}}$$"
   ]
  },
  {
   "cell_type": "markdown",
   "metadata": {},
   "source": [
    "# Implementation"
   ]
  },
  {
   "cell_type": "code",
   "execution_count": 1,
   "metadata": {},
   "outputs": [],
   "source": [
    "#Import the necessary tools for the computation\n",
    "from qiskit import ClassicalRegister, QuantumRegister, QuantumCircuit\n",
    "from qiskit import execute,Aer\n",
    "from qiskit import*\n",
    "import random as r \n",
    "import numpy as np"
   ]
  },
  {
   "cell_type": "markdown",
   "metadata": {},
   "source": [
    "### 5. Write a function to implement V and write a function to implement the driver, W, on your qubit system."
   ]
  },
  {
   "cell_type": "code",
   "execution_count": 2,
   "metadata": {},
   "outputs": [],
   "source": [
    "def H(q, qc):\n",
    "    qc.h(q[1:])\n",
    "    "
   ]
  },
  {
   "cell_type": "code",
   "execution_count": 3,
   "metadata": {},
   "outputs": [],
   "source": [
    "def v(qc, q, edges, gamma):\n",
    "    qc.barrier()\n",
    "    for edge in edges:\n",
    "        qc.cx(q[edge[1]], q[0])\n",
    "        qc.cx(q[edge[0]], q[0])\n",
    "        #multiply the gamma by the weights\n",
    "        qc.u1(gamma * edge[2], q[0])\n",
    "        qc.cx(q[edge[0]], q[0])\n",
    "        qc.cx(q[edge[1]], q[0])\n",
    "        qc.barrier()\n",
    "   \n",
    "        \n",
    "         "
   ]
  },
  {
   "cell_type": "code",
   "execution_count": 4,
   "metadata": {},
   "outputs": [],
   "source": [
    "def w(qc, q, beta):\n",
    "     for i in range(1, len(q)):\n",
    "        qc.h(i)\n",
    "        qc.u1(beta, i)\n",
    "        qc.h(i)\n",
    "    "
   ]
  },
  {
   "cell_type": "markdown",
   "metadata": {},
   "source": [
    "### 6. Prepare the parameters for your simulation.\n",
    "\n",
    "#### This includes creating a grid of $\\gamma$ and $\\beta$ parameters. An example of such a grid is given in the assignment slide.\n",
    "\n",
    "#### Think about how to generate your input space. You will need a graph with 8 vertices and a random assignment of edges. The graph should be connected more fully than a ring but less fully than all-to-all. The edges will determine which qubits you pair up when evaluating your cost function. Make sure to print out the list of edges, so there is a record of your particular graph.\n",
    "\n",
    "#### You will also need to consider the values you will assign to your qubits. Depending on your choice of problem, you may want to handle the initialization differently. Figure this out now and, perhaps, prepare an array of values you will use in your qubit initialization in the next step."
   ]
  },
  {
   "cell_type": "code",
   "execution_count": 5,
   "metadata": {},
   "outputs": [],
   "source": [
    "\n",
    "   # for g_row in gamma:\n",
    "    #    g in g_row:\n",
    "     #   for beta in b_row:\n",
    "      #      for b in beta:\n",
    "    \n",
    "#put this else wher when you make the circuit \n",
    "                "
   ]
  },
  {
   "cell_type": "code",
   "execution_count": 6,
   "metadata": {},
   "outputs": [],
   "source": [
    "def edgy():\n",
    "    edges=[]\n",
    "    maxE = (8 *(8-1))//2\n",
    "    numEdges = r.randint(8, maxE)\n",
    "    counter =0\n",
    "    i =1\n",
    "    j= 2\n",
    "    #assign a random weight (1, 10) to every combination of edges in a loop\n",
    "    for pos in range(8):\n",
    "        if i == 8:\n",
    "            edges.append([1, i])   \n",
    "        else:\n",
    "            edges.append([i,j])\n",
    "        i += 1\n",
    "        j += 1\n",
    "        counter += 1\n",
    "    #while loop accounts for all the edges that are not in a closed loop and randomly generates them\n",
    "    while counter != numEdges:\n",
    "        weight = r.randint(1,10)\n",
    "        i= r.randint(1, 8)\n",
    "        j = r.randint(1, 8)\n",
    "        edge=[i, j]\n",
    "        edge.sort()\n",
    "        \n",
    "        if j != i and edge not in edges:\n",
    "            edges.append(edge)\n",
    "            counter  += 1\n",
    "    edgesF= sorted(edges, key =lambda edge: edge[0])\n",
    "    \n",
    "    for edge in edgesF:\n",
    "        weight = r.randint(1,10)\n",
    "        edge.append(weight)\n",
    "        \n",
    "        \n",
    "        \n",
    "    return edgesF\n",
    "            \n",
    "        \n",
    "    \n",
    "        \n",
    "    \n",
    "        \n",
    "        \n",
    "    \n",
    "    \n",
    "    "
   ]
  },
  {
   "cell_type": "code",
   "execution_count": 7,
   "metadata": {},
   "outputs": [],
   "source": [
    "def classicalV(bits, prob):\n",
    "    count =0\n",
    "    #50 is the number of shots\n",
    "    prob = prob / 50\n",
    "    for pos, i in enumerate(bits):\n",
    "        while pos < len(bits):\n",
    "            j = bits[pos]\n",
    "        #the formula is 1/2(1-(-1)^i(-1)^j) where i and j are a comninations of 0,1 that maximizes the value\n",
    "        #We do 2^n iterations to find all combinations that work\n",
    "        #check to see if this is correct bc technically, you will check all combintations of (i,j) and (j,i); is this not double\n",
    "        #counting?\n",
    "            if i != j:\n",
    "                count += 1\n",
    "            pos+= 1\n",
    "    return count * prob\n",
    "\n",
    "            \n",
    "            \n",
    "            \n",
    "\n",
    "\n"
   ]
  },
  {
   "cell_type": "markdown",
   "metadata": {},
   "source": [
    "### 7. Do the deed! Use your functions to prepare the state at each grid point. Use measurements to evaluate the cost function at each point. Keep track of these values. A loop may be helpful for streamlining your implementation.\n",
    "\n",
    "### Your entire quantum circuit should be contained in this step."
   ]
  },
  {
   "cell_type": "code",
   "execution_count": 8,
   "metadata": {},
   "outputs": [
    {
     "name": "stdout",
     "output_type": "stream",
     "text": [
      "[18.56, 17.959999999999997, 17.840000000000003, 18.399999999999995, 18.04, 18.599999999999998, 18.44, 17.959999999999997, 17.959999999999997, 17.439999999999998, 17.28, 18.2, 17.72, 18.280000000000005, 18.160000000000007, 16.92, 17.560000000000002, 18.08, 17.919999999999998, 17.680000000000003, 17.64, 17.240000000000002, 18.279999999999998, 17.04, 18.799999999999994, 16.999999999999996, 17.48, 17.52, 17.959999999999997, 17.800000000000004, 18.2, 18.199999999999996, 18.039999999999996, 18.12, 17.720000000000006, 18.599999999999998, 17.72, 17.919999999999995, 17.2, 17.520000000000003, 16.880000000000003, 17.960000000000004, 18.079999999999995, 18.599999999999998, 17.24, 16.92, 18.0, 17.919999999999998, 17.759999999999994, 17.159999999999997, 17.72, 17.479999999999997, 18.24, 17.560000000000002, 17.64, 17.599999999999998, 17.640000000000004, 16.760000000000005, 17.999999999999996, 18.159999999999997, 18.24, 17.839999999999996, 17.2, 18.119999999999997, 18.799999999999994, 18.360000000000003]\n"
     ]
    }
   ],
   "source": [
    "gamma,beta = np.mgrid[0:2.1*np.pi:.2*np.pi,0:1.1*np.pi:.2*np.pi]\n",
    "edges = edgy()\n",
    "#print(edges)\n",
    "#print(len(gamma))\n",
    "#print(gamma)\n",
    "#print(len(beta))\n",
    "#print(beta)\n",
    "allExVal=[]\n",
    "gamma_list= [value for row in gamma for value in row]\n",
    "beta_list= [value for row in beta for value in row]\n",
    "\n",
    "for g_row, b_row in zip(gamma, beta):\n",
    "    for g, b in zip(g_row, b_row):\n",
    "        \n",
    "        q = QuantumRegister(9)\n",
    "        c = ClassicalRegister(9)\n",
    "        qbits = [i for i in range(8)]\n",
    "        qc = QuantumCircuit(q,c)\n",
    "        H(q, qc)\n",
    "        v(qc, q, edges, g)\n",
    "        w(qc, q, b)\n",
    "        qc.measure(q[1:], c[1:]) \n",
    "        #probability is the number of times you got that state divided by # of shots(2nd number in dict)\n",
    "        #sum over every possibiliity of outcome times probability to get expected outcome; \n",
    "        #value of outcome is cost of state; cost of state is classically done by looking at every single egde; \n",
    "        #cost = outcome\n",
    "        backend = Aer.get_backend('qasm_simulator')\n",
    "        job = execute(qc, backend, shots=50)\n",
    "        result = job.result()\n",
    "        count=result.get_counts(qc)\n",
    "        #counts.append(count)\n",
    "        exVal = 0;\n",
    "        for bits, prob in count.items():\n",
    "            exVal += classicalV(bits, prob)\n",
    "        allExVal.append(exVal)\n",
    "print(allExVal)\n",
    "        \n",
    "\n",
    "\n",
    "        \n",
    "        \n",
    "     \n",
    "            \n",
    "            \n",
    "\n",
    "        \n",
    "        \n"
   ]
  },
  {
   "cell_type": "markdown",
   "metadata": {},
   "source": [
    "### 8. Plot your results.\n",
    "#### Creativity is welcome, but one option is a multidimensional histogram with the cost function as the height and the location dependent on the parameter grid."
   ]
  },
  {
   "cell_type": "code",
   "execution_count": 9,
   "metadata": {},
   "outputs": [
    {
     "data": {
      "text/plain": [
       "Text(0.5, 0, 'Beta')"
      ]
     },
     "execution_count": 9,
     "metadata": {},
     "output_type": "execute_result"
    },
    {
     "data": {
      "image/png": "[encoded data removed]",
      "text/plain": [
       "<Figure size 432x288 with 1 Axes>"
      ]
     },
     "metadata": {
      "needs_background": "light"
     },
     "output_type": "display_data"
    }
   ],
   "source": [
    "qc.draw() #uuhhhhh not sure about how to implement a histogram?\n",
    "\n",
    "import matplotlib.pyplot as plt\n",
    "from mpl_toolkits import mplot3d\n",
    "\n",
    "X=np.array(gamma_list)\n",
    "Y=np.array(beta_list)\n",
    "Z=np.array(allExVal)\n",
    "\n",
    "fig = plt.figure()\n",
    "ax = plt.axes(projection='3d')\n",
    "ax.plot_trisurf(X, Y, Z, linewidth=0, antialiased=False)\n",
    "ax.set_title('Expectation Values for Gamma & Beta')\n",
    "ax.set_xlabel('Gamma')\n",
    "ax.set_ylabel('Beta')"
   ]
  },
  {
   "cell_type": "markdown",
   "metadata": {},
   "source": [
    "### 9. Comment on the process of converting your problem to the necessary form, implementing your functions, and interpreting your results. Finally, give your best approximation to the solution of your chosen problem."
   ]
  },
  {
   "cell_type": "markdown",
   "metadata": {},
   "source": []
  },
  {
   "cell_type": "markdown",
   "metadata": {},
   "source": [
    "Well, I guess I'll be able to get a certificate for this so thats nice. Do I understand anything? sort of? All I know for this project is that I looked at the picture on the power point and tried to find a pattern in the code to make it look like that for 8 quibits. prety easy. then I added some numbers for the beta\\gamma. iterate through combinations of that. Im not really sure why this is useful, but at least im getting coding practice so yay! The results give me a graph of tons of expectation values. \n",
    "\n",
    "The classical/coding part I underdtand pretty well, like how to generate a random combination of the edges and not account for the repeats, how to iterate through the grid of beta/gammas, how to make comprehensive lists, how to apply the arthmetic for the quantum gates.\n",
    "\n",
    "A solution? Well, the graph looks pointy, so Im going to go with the biggest point, which is like a 18.6 for my combo of shots/ weights.\n"
   ]
  }
 ],
 "metadata": {
  "kernelspec": {
   "display_name": "Python 3",
   "language": "python",
   "name": "python3"
  },
  "language_info": {
   "codemirror_mode": {
    "name": "ipython",
    "version": 3
   },
   "file_extension": ".py",
   "mimetype": "text/x-python",
   "name": "python",
   "nbconvert_exporter": "python",
   "pygments_lexer": "ipython3",
   "version": "3.7.4"
  }
 },
 "nbformat": 4,
 "nbformat_minor": 2
}
