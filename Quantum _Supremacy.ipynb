{
 "cells": [
  {
   "cell_type": "code",
   "execution_count": null,
   "metadata": {
    "scrolled": true
   },
   "outputs": [],
   "source": [
    "#Import the necessary tools for the computation\n",
    "import numpy as np\n",
    "import random\n",
    "from qiskit import ClassicalRegister, QuantumRegister, QuantumCircuit\n",
    "from qiskit import execute,Aer\n",
    "from qiskit import IBMQ\n",
    "from matplotlib import pyplot as plt\n",
    "barriers = True"
   ]
  },
  {
   "cell_type": "code",
   "execution_count": 2,
   "metadata": {},
   "outputs": [
    {
     "data": {
      "text/plain": [
       "<AccountProvider for IBMQ(hub='ibm-q', group='open', project='main')>"
      ]
     },
     "execution_count": 2,
     "metadata": {},
     "output_type": "execute_result"
    }
   ],
   "source": [
    "#Make sure to execute this command at least once before you try to connect to the hardware backend.\n",
    "#If you have trouble please consult lecture 2, the online QISKit documentation, or contact us.\n",
    "IBMQ.load_account()"
   ]
  },
  {
   "cell_type": "markdown",
   "metadata": {},
   "source": [
    "### In this notebook, you will mimic Google's quantum supremacy experiment by constructing a random quantum circuit and running it on simulators as well as IBM's hardware backend.\n",
    "\n",
    "### Use 12 qubits. Your circuit depth for this project will be measured in cycles where each cycle corresponds to a round of single qubit gates followed by a round of CZs.\n",
    "\n",
    "### In each cycle, choose a random single qubit gate for each qubit using U3. Randomly choose these via a seed, so you can easily reproduce the random sequence. U3 takes 3 parameters which you should choose as follows: \n",
    "\n",
    "### $\\theta = 2 \\cos^{-1} (\\text{r.random()})$\n",
    "### $\\lambda = 2 \\pi * \\text{r.random()}$\n",
    "### $\\phi = 2 \\pi * \\text{r.random()}$\n",
    "\n",
    "### After applying the single qubit gates, apply the appropriate CZ gates according to the following pattern:\n",
    "### On even cycles CZ nearest neighbor qubits such as 0-1,  2-3,  4-5,  6-7,  8-9,  10-11\n",
    "### On odd cycles CZ qubits which are $\\frac{n}{2}$ away from one another such as 0-6,  1-7,...\n",
    "### Repeat"
   ]
  },
  {
   "cell_type": "markdown",
   "metadata": {},
   "source": [
    "### Do this for circuit depths ranging from 1 cycle to 12 cycles. For each random circuit, make a record of the random number sequence which was used to generate the gates."
   ]
  },
  {
   "cell_type": "markdown",
   "metadata": {},
   "source": [
    "### Run your circuit on the statevector simulator as the ideal classical simulation. Note that for the statevector simulator, you should not include the measurement gates in your circuit. \n",
    "### Then run it on the qasm simulator and the hardware backend in order to get measurement frequencies."
   ]
  },
  {
   "cell_type": "markdown",
   "metadata": {},
   "source": [
    "### Once you have the probabilities and frequencies, you will be calculating the linear cross entropy fidelity, $\\mathscr{F}_{XEB}$ of your run. At each depth, do all of this for at least 2 different random circuit realizations on both the qasm simulator and the hardware."
   ]
  },
  {
   "cell_type": "code",
   "execution_count": 3,
   "metadata": {},
   "outputs": [],
   "source": [
    "n=12 \n",
    "r = random.Random()\n",
    "r.seed(378)\n",
    "f = open('hw6results.txt', 'w')\n",
    "# open file in append mode\n",
    "#f.write('python rules')\n",
    "#f.close()"
   ]
  },
  {
   "cell_type": "markdown",
   "metadata": {},
   "source": [
    "#### When a random seed is set, random numbers can be generated in a sequence which will be exactly duplicated each time the same seed is used. Therefore, the following cell which sets the random seed should be executed before each NEW depth circuit. But it should not be executed between DIFFERENT circuits of the same depth. "
   ]
  },
  {
   "cell_type": "code",
   "execution_count": null,
   "metadata": {},
   "outputs": [],
   "source": [
    "#This cell allows you to set a seed for your random number generation.\n",
    "#By using the same seed, you can repeatedly generate the same random sequence.\n",
    "#Take advantage of this in order to test the same random ciruit on multiple backends.\n",
    "#seed =542225481265\n",
    "#This cell should be executed\n"
   ]
  },
  {
   "cell_type": "code",
   "execution_count": 4,
   "metadata": {},
   "outputs": [],
   "source": [
    "q=QuantumRegister(n)\n",
    "c=ClassicalRegister(n)\n",
    "qc=QuantumCircuit(q,c)\n",
    "    "
   ]
  },
  {
   "cell_type": "code",
   "execution_count": 5,
   "metadata": {},
   "outputs": [],
   "source": [
    "# 1st choose the depth of your current run\n",
    "def makeCircuit(depth):\n",
    "    \n",
    "\n",
    "    # Then construct your circuit\n",
    "    for i in range(depth):\n",
    "        for i in range(n):\n",
    "            qc.u3( 2* np.arccos(r.random()), 2 * np.pi * r.random(), 2 * np.pi * r.random(), q[i])\n",
    "        #Put the single qubit gates here\n",
    "        #Put the CZs here\n",
    "        if i // 2 == 0:\n",
    "            for i in range(0, n, 2):\n",
    "                 qc.cz(q[i], q[i+1])\n",
    "        else:\n",
    "            for i in range(int(n/2)):\n",
    "                qc.cz(q[i], q[i+int(n/2)])\n",
    "         #These barriers separate each cycle\n",
    "        for j in range(n):\n",
    "              qc.barrier(q[j])"
   ]
  },
  {
   "cell_type": "code",
   "execution_count": 6,
   "metadata": {},
   "outputs": [],
   "source": [
    "#run measure gets counts for simulator runs\n",
    "def measure():\n",
    "    qc.measure(q,c)"
   ]
  },
  {
   "cell_type": "markdown",
   "metadata": {},
   "source": [
    "### The following cells select which backend runs your quantum circuit. Only execute the desired commands.\n",
    "#### If you have trouble with the backends, reference lecture 2, the QISKit documentation, and/or ask us for help."
   ]
  },
  {
   "cell_type": "markdown",
   "metadata": {},
   "source": [
    "Choose a backend"
   ]
  },
  {
   "cell_type": "code",
   "execution_count": null,
   "metadata": {},
   "outputs": [],
   "source": [
    "#In order for this to work, there must be no measurement gates in your circuit (or simply don't execute them)\n",
    "\n",
    "#backend = Aer.get_backend('statevector_simulator')"
   ]
  },
  {
   "cell_type": "code",
   "execution_count": null,
   "metadata": {},
   "outputs": [],
   "source": [
    "#only run this for simulator\n",
    "#backend = Aer.get_backend('qasm_simulator')\n",
    "    "
   ]
  },
  {
   "cell_type": "code",
   "execution_count": null,
   "metadata": {},
   "outputs": [],
   "source": [
    " #only run this for hardware\n",
    "#provider = IBMQ.get_provider(group='open')\n",
    "#backend=provider.get_backend('ibmq_16_melbourne')"
   ]
  },
  {
   "cell_type": "markdown",
   "metadata": {},
   "source": [
    "Run the job"
   ]
  },
  {
   "cell_type": "code",
   "execution_count": null,
   "metadata": {},
   "outputs": [],
   "source": [
    "#Notice the high shot count\n",
    "\n",
    "#job = execute(qc, backend, shots=1024)"
   ]
  },
  {
   "cell_type": "code",
   "execution_count": null,
   "metadata": {},
   "outputs": [],
   "source": [
    "\n",
    "#result = job.result()\n"
   ]
  },
  {
   "cell_type": "markdown",
   "metadata": {},
   "source": [
    "Save your results"
   ]
  },
  {
   "cell_type": "code",
   "execution_count": null,
   "metadata": {},
   "outputs": [],
   "source": [
    "#Choose one of these!"
   ]
  },
  {
   "cell_type": "code",
   "execution_count": null,
   "metadata": {},
   "outputs": [],
   "source": [
    "#if running statevec, do this\n",
    "#counts\n",
    "#run this first to get prob distribution\n",
    "#statevec=result.get_statevector(qc)"
   ]
  },
  {
   "cell_type": "code",
   "execution_count": null,
   "metadata": {},
   "outputs": [],
   "source": [
    "#if runnning from simulator, hardware, do this\n",
    "#freq#run this first to get prob distribution\n",
    "\n",
    "#statevec=result.get_s\n",
    "\n",
    "#counts=result.get_counts(qc)\n",
    "    "
   ]
  },
  {
   "cell_type": "markdown",
   "metadata": {},
   "source": [
    "### Save your frequency/probability data from your runs, and use them to calculate the linear cross entropy fidelity for the qasm simulator and the actual hardware at each circuit depth."
   ]
  },
  {
   "cell_type": "markdown",
   "metadata": {},
   "source": [
    "### In order to retrieve your results from IBM's hardware, you have a few options. When you submit a job to the hardware backend, your job will enter a queue which means you will have to wait. You can either submit this job from your local jupyter notebook the way we have previously discussed, or you can run your codes on the IBM quantum experience website's provided jupyter notebooks. If running online, you can retrieve results just like you would with the qasm simulator only with a long wait for the job. If you submit from your local machine, you can find the results page on the website. From the results page, download the .json file. This file will contain, among other things, the counts data which you can import, save into a new file, or copy and paste into your notebook."
   ]
  },
  {
   "cell_type": "markdown",
   "metadata": {},
   "source": [
    "### IMPORTANT: Your $\\mathscr{F}_{XEB}$ falling outside of  $\\left[0,1\\right]$ does not necessarily mean it is incorrect"
   ]
  },
  {
   "cell_type": "code",
   "execution_count": 7,
   "metadata": {},
   "outputs": [],
   "source": [
    "def Bin():\n",
    "    #Generate a list of all the possible binary outputs\n",
    "    BL=[] #Binary List - list of binary numbers from 0 to 2**n-1\n",
    "    for i in range(2**n):\n",
    "        BL.append(bin(i)[2:].zfill(n))\n",
    "    return BL"
   ]
  },
  {
   "cell_type": "code",
   "execution_count": 8,
   "metadata": {},
   "outputs": [],
   "source": [
    "#From the output of the qasm simulation, convert counts to frequencies and save to a list \n",
    "# which matches up with the list of binaries, BL\n",
    "def Fout(counts, BL):\n",
    "    fout=[] #frequencies of outputs\n",
    "    totalshots=sum(counts.values())\n",
    "    for i in BL:\n",
    "        if i in counts.keys():\n",
    "            fout.append(counts[i]/totalshots)\n",
    "        else:\n",
    "            fout.append(0)\n",
    "    return fout\n"
   ]
  },
  {
   "cell_type": "code",
   "execution_count": null,
   "metadata": {},
   "outputs": [],
   "source": [
    "#statevec will contain the probability amplitude for each possible binary string, so we convert them to probabilities\n",
    "#probabilities=statevec*statevec.conjugate()"
   ]
  },
  {
   "cell_type": "markdown",
   "metadata": {},
   "source": [
    "### Reminder: $\\mathscr{F}_{XEB}=2^{n}\\langle P(x)\\rangle-1=2^{n} \\sum_{x} P(x)f(x) -1$"
   ]
  },
  {
   "cell_type": "code",
   "execution_count": 9,
   "metadata": {},
   "outputs": [],
   "source": [
    "#Write a function which takes the frequencies and probabilities as input and outputs the linear cross entropy fidelity\n",
    "# do this twice for statevec/sim, statevec/hardware\n",
    "def FXEB(fout, probabilities):\n",
    "    exp =0\n",
    "    \n",
    "    for i,j in zip(fout, probabilities):\n",
    "        res = i * j\n",
    "        exp += res\n",
    "    fxeb = (2**n) * exp -1\n",
    "    \n",
    "     \n",
    "    #Your code goes here\n",
    "    \n",
    "    return fxeb"
   ]
  },
  {
   "cell_type": "code",
   "execution_count": 10,
   "metadata": {},
   "outputs": [],
   "source": [
    "#cannot do run and restart all\n",
    "def addStuff():\n",
    "    for fout, prob in zip(FoutTotalS, probs):\n",
    "        thingToAdd = FXEB(fout, prob)\n",
    "        f.write(str(thingToAdd))\n",
    "    f.close()"
   ]
  },
  {
   "cell_type": "code",
   "execution_count": null,
   "metadata": {},
   "outputs": [],
   "source": [
    "#statevector\n",
    "\n",
    "probs=[]\n",
    "for i in range(1, 13):\n",
    "   \n",
    "    q=QuantumRegister(n)\n",
    "    c=ClassicalRegister(n)\n",
    "    qc=QuantumCircuit(q,c)\n",
    "    makeCircuit(i)\n",
    "    #measure(): dont need to measure the state vector\n",
    "    backend = Aer.get_backend('statevector_simulator')\n",
    "    job = execute(qc, backend, shots=8192)\n",
    "    result = job.result()\n",
    "    statevec=result.get_statevector(qc)\n",
    "    probabilities=statevec*statevec.conjugate()\n",
    "    probs.append(probabilities)\n",
    "    #save the results\n",
    "    \n",
    "#simulator runs\n",
    "FoutTotalS =[]\n",
    "b =Bin()\n",
    "for i in range(1, 13):\n",
    "    #f= open('hw6results.txt', 'w')\n",
    "    q=QuantumRegister(n)\n",
    "    c=ClassicalRegister(n)\n",
    "    qc=QuantumCircuit(q,c)\n",
    "    makeCircuit(i)\n",
    "    measure()\n",
    "    backend = Aer.get_backend('qasm_simulator')\n",
    "    job = execute(qc, backend, shots=8192)\n",
    "    result = job.result()\n",
    "    counts=result.get_counts(qc)\n",
    "    fres=Fout(counts, b)\n",
    "    FoutTotalS.append(fres)\n",
    "#\n",
    "addStuff()\n",
    "\n",
    "\n",
    "\n",
    "probs=[]\n",
    "FoutTotalS =[]\n",
    "# state vector runs\n",
    "for i in range(1, 13):\n",
    "    q=QuantumRegister(n)\n",
    "    c=ClassicalRegister(n)\n",
    "    qc=QuantumCircuit(q,c)\n",
    "    makeCircuit(i)\n",
    "    backend = Aer.get_backend('statevector_simulator')\n",
    "    job = execute(qc, backend, shots=8192)\n",
    "    result = job.result()\n",
    "    statevec=result.get_statevector(qc)\n",
    "    probabilities=statevec*statevec.conjugate()\n",
    "    probs.append(probabilities)\n",
    "#hardware runs\n",
    "jobID=[]\n",
    "for i in range(1, 13):\n",
    "    #f=open('hw6results.txt', 'w')\n",
    "    q=QuantumRegister(n)\n",
    "    c=ClassicalRegister(n)\n",
    "    qc=QuantumCircuit(q,c)\n",
    "    makeCircuit(i)\n",
    "    measure()\n",
    "    provider = IBMQ.get_provider(group='open')\n",
    "    backend=provider.get_backend('ibmq_16_melbourne')\n",
    "    job = execute(qc, backend, shots=1024)\n",
    "    jobID.append(job.job_id())\n",
    "    print(i)\n",
    "   \n",
    "jobend=['5da7bb2ae31238001199c6f0',\n",
    "'5da7bb2647da900011365dbd',\n",
    "'5da7bb2147da900011365dbc',\n",
    "'5da7bb1d70bfd700131bd63d',\n",
    "'5da7bb1a43fe7b0011dcdeb8',\n",
    "'5da71aa547da9000113656fb',\n",
    "'5da71aa127f430001270ddc7',\n",
    "'5da71a9d70bfd700131bcfd3',\n",
    "'5da71a993c1181001284e773',\n",
    "'5da71a9440a83b0011988c1a',\n",
    "'5da718b7beb335001105240f',\n",
    "'5da718b327f430001270ddb9']\n",
    "for id in jobend:\n",
    "    job = backend.retrieve_job(id)\n",
    "    result = job.result()\n",
    "    counts=result.get_counts(qc)\n",
    "    fres2= Fout(counts, b)\n",
    "    FoutTotalH.append(fres2)\n",
    "\n",
    "addStuff()\n",
    "    "
   ]
  },
  {
   "cell_type": "markdown",
   "metadata": {},
   "source": [
    "#### Make sure to save your calculated $\\mathscr{F}_{XEB}$ for each run of each circuit depth before you run a new circuit"
   ]
  },
  {
   "cell_type": "code",
   "execution_count": 12,
   "metadata": {},
   "outputs": [
    {
     "ename": "QiskitError",
     "evalue": "'Data for experiment \"circuit61\" could not be found.'",
     "output_type": "error",
     "traceback": [
      "\u001b[1;31m---------------------------------------------------------------------------\u001b[0m",
      "\u001b[1;31mStopIteration\u001b[0m                             Traceback (most recent call last)",
      "\u001b[1;32m~\\AppData\\Roaming\\Python\\Python37\\site-packages\\qiskit\\result\\result.py\u001b[0m in \u001b[0;36m_get_experiment\u001b[1;34m(self, key)\u001b[0m\n\u001b[0;32m    265\u001b[0m             \u001b[1;31m# Look into `result[x].header.name` for the names.\u001b[0m\u001b[1;33m\u001b[0m\u001b[1;33m\u001b[0m\u001b[1;33m\u001b[0m\u001b[0m\n\u001b[1;32m--> 266\u001b[1;33m             return next(result for result in self.results\n\u001b[0m\u001b[0;32m    267\u001b[0m                         if getattr(getattr(result, 'header', None),\n",
      "\u001b[1;31mStopIteration\u001b[0m: ",
      "\nDuring handling of the above exception, another exception occurred:\n",
      "\u001b[1;31mQiskitError\u001b[0m                               Traceback (most recent call last)",
      "\u001b[1;32m<ipython-input-12-fa182ea2b1cb>\u001b[0m in \u001b[0;36m<module>\u001b[1;34m\u001b[0m\n\u001b[0;32m     45\u001b[0m     \u001b[0mjob\u001b[0m \u001b[1;33m=\u001b[0m \u001b[0mbackend\u001b[0m\u001b[1;33m.\u001b[0m\u001b[0mretrieve_job\u001b[0m\u001b[1;33m(\u001b[0m\u001b[0mid\u001b[0m\u001b[1;33m)\u001b[0m\u001b[1;33m\u001b[0m\u001b[1;33m\u001b[0m\u001b[0m\n\u001b[0;32m     46\u001b[0m     \u001b[0mresult\u001b[0m \u001b[1;33m=\u001b[0m \u001b[0mjob\u001b[0m\u001b[1;33m.\u001b[0m\u001b[0mresult\u001b[0m\u001b[1;33m(\u001b[0m\u001b[1;33m)\u001b[0m\u001b[1;33m\u001b[0m\u001b[1;33m\u001b[0m\u001b[0m\n\u001b[1;32m---> 47\u001b[1;33m     \u001b[0mcounts\u001b[0m\u001b[1;33m=\u001b[0m\u001b[0mresult\u001b[0m\u001b[1;33m.\u001b[0m\u001b[0mget_counts\u001b[0m\u001b[1;33m(\u001b[0m\u001b[0mqc\u001b[0m\u001b[1;33m)\u001b[0m\u001b[1;33m\u001b[0m\u001b[1;33m\u001b[0m\u001b[0m\n\u001b[0m\u001b[0;32m     48\u001b[0m     \u001b[0mfres2\u001b[0m\u001b[1;33m=\u001b[0m \u001b[0mFout\u001b[0m\u001b[1;33m(\u001b[0m\u001b[0mcounts\u001b[0m\u001b[1;33m,\u001b[0m \u001b[0mb\u001b[0m\u001b[1;33m)\u001b[0m\u001b[1;33m\u001b[0m\u001b[1;33m\u001b[0m\u001b[0m\n\u001b[0;32m     49\u001b[0m     \u001b[0mFoutTotalH\u001b[0m\u001b[1;33m.\u001b[0m\u001b[0mappend\u001b[0m\u001b[1;33m(\u001b[0m\u001b[0mfres2\u001b[0m\u001b[1;33m)\u001b[0m\u001b[1;33m\u001b[0m\u001b[1;33m\u001b[0m\u001b[0m\n",
      "\u001b[1;32m~\\AppData\\Roaming\\Python\\Python37\\site-packages\\qiskit\\result\\result.py\u001b[0m in \u001b[0;36mget_counts\u001b[1;34m(self, experiment)\u001b[0m\n\u001b[0;32m    173\u001b[0m         \"\"\"\n\u001b[0;32m    174\u001b[0m         \u001b[1;32mtry\u001b[0m\u001b[1;33m:\u001b[0m\u001b[1;33m\u001b[0m\u001b[1;33m\u001b[0m\u001b[0m\n\u001b[1;32m--> 175\u001b[1;33m             \u001b[0mexp\u001b[0m \u001b[1;33m=\u001b[0m \u001b[0mself\u001b[0m\u001b[1;33m.\u001b[0m\u001b[0m_get_experiment\u001b[0m\u001b[1;33m(\u001b[0m\u001b[0mexperiment\u001b[0m\u001b[1;33m)\u001b[0m\u001b[1;33m\u001b[0m\u001b[1;33m\u001b[0m\u001b[0m\n\u001b[0m\u001b[0;32m    176\u001b[0m             \u001b[1;32mtry\u001b[0m\u001b[1;33m:\u001b[0m\u001b[1;33m\u001b[0m\u001b[1;33m\u001b[0m\u001b[0m\n\u001b[0;32m    177\u001b[0m                 \u001b[0mheader\u001b[0m \u001b[1;33m=\u001b[0m \u001b[0mexp\u001b[0m\u001b[1;33m.\u001b[0m\u001b[0mheader\u001b[0m\u001b[1;33m.\u001b[0m\u001b[0mto_dict\u001b[0m\u001b[1;33m(\u001b[0m\u001b[1;33m)\u001b[0m\u001b[1;33m\u001b[0m\u001b[1;33m\u001b[0m\u001b[0m\n",
      "\u001b[1;32m~\\AppData\\Roaming\\Python\\Python37\\site-packages\\qiskit\\result\\result.py\u001b[0m in \u001b[0;36m_get_experiment\u001b[1;34m(self, key)\u001b[0m\n\u001b[0;32m    269\u001b[0m         \u001b[1;32mexcept\u001b[0m \u001b[0mStopIteration\u001b[0m\u001b[1;33m:\u001b[0m\u001b[1;33m\u001b[0m\u001b[1;33m\u001b[0m\u001b[0m\n\u001b[0;32m    270\u001b[0m             raise QiskitError('Data for experiment \"%s\" could not be found.' %\n\u001b[1;32m--> 271\u001b[1;33m                               key)\n\u001b[0m",
      "\u001b[1;31mQiskitError\u001b[0m: 'Data for experiment \"circuit61\" could not be found.'"
     ]
    }
   ],
   "source": [
    "#had to make it seperate bc the resulst kept failing bc ran oyt of points. This part is manual\n",
    "probs=[]\n",
    "FoutTotalS =[]\n",
    "# state vector runs\n",
    "for i in range(1, 13):\n",
    "    q=QuantumRegister(n)\n",
    "    c=ClassicalRegister(n)\n",
    "    qc=QuantumCircuit(q,c)\n",
    "    makeCircuit(i)\n",
    "    backend = Aer.get_backend('statevector_simulator')\n",
    "    job = execute(qc, backend, shots=8192)\n",
    "    result = job.result()\n",
    "    statevec=result.get_statevector(qc)\n",
    "    probabilities=statevec*statevec.conjugate()\n",
    "    probs.append(probabilities)\n",
    "#hardware runs\n",
    "jobID=['5da7bb2ae31238001199c6f0',\n",
    "'5da7bb2647da900011365dbd',\n",
    "'5da7bb2147da900011365dbc',\n",
    "'5da7bb1d70bfd700131bd63d',\n",
    "'5da7bb1a43fe7b0011dcdeb8',\n",
    "'5da71aa547da9000113656fb',\n",
    "'5da71aa127f430001270ddc7',\n",
    "'5da71a9d70bfd700131bcfd3',\n",
    "'5da71a993c1181001284e773',\n",
    "'5da71a9440a83b0011988c1a',\n",
    "'5da718b7beb335001105240f',\n",
    "'5da718b327f430001270ddb9']\n",
    "for i in range(1, 13):\n",
    "    #f=open('hw6results.txt', 'w')\n",
    "    q=QuantumRegister(n)\n",
    "    c=ClassicalRegister(n)\n",
    "    qc=QuantumCircuit(q,c)\n",
    "    makeCircuit(i)\n",
    "    measure()\n",
    "    provider = IBMQ.get_provider(group='open')\n",
    "    backend=provider.get_backend('ibmq_16_melbourne')\n",
    "    #job = execute(qc, backend, shots=1024)\n",
    "    #for i in jobID:\n",
    "     #   jobID.append(job.job_id(i))\n",
    "      #  print(i)\n",
    "   \n",
    "\n",
    "for id in jobID:\n",
    "    job = backend.retrieve_job(id)\n",
    "    result = job.result()\n",
    "    counts=result.get_counts(qc)\n",
    "    fres2= Fout(counts, b)\n",
    "    FoutTotalH.append(fres2)\n",
    "\n",
    "addStuff()\n",
    "\n"
   ]
  },
  {
   "cell_type": "markdown",
   "metadata": {},
   "source": [
    "### Plot $\\mathscr{F}_{XEB}$ vs circuit depth for the qasm simulator and hardware backends on the same graph.\n",
    "#### For each backend, your 2 (or more) values of $\\mathscr{F}_{XEB}$ for each depth can be averaged together, plotted separately, or both."
   ]
  },
  {
   "cell_type": "code",
   "execution_count": 14,
   "metadata": {},
   "outputs": [],
   "source": [
    "depth = [1, 2, 3, 4 , 5, 6, 7, 8, 9, 10, 11, 12]\n",
    "software =[-0.4798166963212238,0.3290001486025771,-0.8085391576530417,-0.2577384204030735,-0.2307165925878143,-0.8844417096312285,-0.5695150625171939,-0.8390015539096033,-0.7507322630797364,-0.5032585978316332,-0.5037844484209856,-0.734121487578417]\n",
    "#hardcode values in here\n",
    "hardware = [0.5623767286582144,-0.2685536222572086,0.29880674864972034,-0.3083808106145641,0.11980743501277913,-0.337120188828649,-0.3006440753205266,0.18206734130559177,0.20146816839694415,0.0026709989414408497,-0.11722967550391894,-0.009465034610220635]"
   ]
  },
  {
   "cell_type": "code",
   "execution_count": 18,
   "metadata": {},
   "outputs": [
    {
     "data": {
      "image/png": "[encoded data removed]",
      "text/plain": [
       "<Figure size 432x288 with 1 Axes>"
      ]
     },
     "metadata": {
      "needs_background": "light"
     },
     "output_type": "display_data"
    }
   ],
   "source": [
    "plt.plot(depth, hardware, 'b')\n",
    "plt.plot(depth, software, 'r')\n",
    "plt.xlabel('Depth', fontsize=18)\n",
    "plt.ylabel('FXEB', fontsize=16)\n",
    "plt.show()"
   ]
  },
  {
   "cell_type": "markdown",
   "metadata": {},
   "source": [
    "### Comment on  trends in the $\\mathscr{F}_{XEB}$ vs depth plot."
   ]
  },
  {
   "cell_type": "markdown",
   "metadata": {},
   "source": [
    "The plots both have reletively the same fidelity trends at lower depths between 2-4 with the hardware being a big higher, but then the hardware begins having higher trends after a depth of 6 and the peaks become more broad."
   ]
  },
  {
   "cell_type": "code",
   "execution_count": null,
   "metadata": {},
   "outputs": [],
   "source": []
  }
 ],
 "metadata": {
  "kernelspec": {
   "display_name": "Python 3",
   "language": "python",
   "name": "python3"
  },
  "language_info": {
   "codemirror_mode": {
    "name": "ipython",
    "version": 3
   },
   "file_extension": ".py",
   "mimetype": "text/x-python",
   "name": "python",
   "nbconvert_exporter": "python",
   "pygments_lexer": "ipython3",
   "version": "3.7.4"
  }
 },
 "nbformat": 4,
 "nbformat_minor": 2
}
