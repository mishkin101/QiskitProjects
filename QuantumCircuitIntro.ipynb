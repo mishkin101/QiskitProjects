{
 "cells": [
  {
   "cell_type": "code",
   "execution_count": 1,
   "metadata": {},
   "outputs": [],
   "source": [
    "from qiskit import *\n",
    "from qiskit.tools.visualization import plot_histogram\n",
    "import math\n",
    "import random"
   ]
  },
  {
   "cell_type": "code",
   "execution_count": 2,
   "metadata": {},
   "outputs": [],
   "source": [
    "def randomGen(n):\n",
    "    a=[]\n",
    "    for i in range(n+1):\n",
    "        a.append(random.randint(0,1))\n",
    "    return a"
   ]
  },
  {
   "cell_type": "code",
   "execution_count": 3,
   "metadata": {},
   "outputs": [],
   "source": [
    "def xH(a):\n",
    "    qbits= a\n",
    "    cir.x(0)\n",
    "    for i in range(n+1):\n",
    "        cir.h(i)\n",
    "    cir.barrier()\n",
    "    return cir"
   ]
  },
  {
   "cell_type": "code",
   "execution_count": 4,
   "metadata": {},
   "outputs": [],
   "source": [
    "def unknown(a):\n",
    "    a.reverse()\n",
    "    if a[0] == 1:\n",
    "        cir.x(0)\n",
    "    for i in range(1,len(a)):\n",
    "        #print(i)\n",
    "        if a[i]== 1:\n",
    "            cir.cx(i,0)\n",
    "    cir.barrier()\n",
    "    \n",
    "    for i in range(len(a)):\n",
    "        cir.h(i)\n",
    "    cir.barrier()\n",
    "    qinput=[]\n",
    "    for i in range(1,len(a)):\n",
    "     qinput.append(i)\n",
    "    cir.measure(qinput, qinput)\n",
    "    return cir.draw()\n"
   ]
  },
  {
   "cell_type": "code",
   "execution_count": 5,
   "metadata": {},
   "outputs": [
    {
     "name": "stdout",
     "output_type": "stream",
     "text": [
      "enter number of bits:5\n",
      "[1, 0, 1, 0, 0, 1]\n",
      "        ┌───┐┌───┐ ░ ┌───┐┌───┐┌───┐ ░ ┌───┐ ░                \n",
      "q_0: |0>┤ X ├┤ H ├─░─┤ X ├┤ X ├┤ X ├─░─┤ H ├─░────────────────\n",
      "        ├───┤└───┘ ░ └───┘└─┬─┘└─┬─┘ ░ ├───┤ ░ ┌─┐            \n",
      "q_1: |0>┤ H ├──────░────────┼────┼───░─┤ H ├─░─┤M├────────────\n",
      "        ├───┤      ░        │    │   ░ ├───┤ ░ └╥┘┌─┐         \n",
      "q_2: |0>┤ H ├──────░────────┼────┼───░─┤ H ├─░──╫─┤M├─────────\n",
      "        ├───┤      ░        │    │   ░ ├───┤ ░  ║ └╥┘┌─┐      \n",
      "q_3: |0>┤ H ├──────░────────■────┼───░─┤ H ├─░──╫──╫─┤M├──────\n",
      "        ├───┤      ░             │   ░ ├───┤ ░  ║  ║ └╥┘┌─┐   \n",
      "q_4: |0>┤ H ├──────░─────────────┼───░─┤ H ├─░──╫──╫──╫─┤M├───\n",
      "        ├───┤      ░             │   ░ ├───┤ ░  ║  ║  ║ └╥┘┌─┐\n",
      "q_5: |0>┤ H ├──────░─────────────■───░─┤ H ├─░──╫──╫──╫──╫─┤M├\n",
      "        └───┘      ░                 ░ └───┘ ░  ║  ║  ║  ║ └╥┘\n",
      " c_0: 0 ════════════════════════════════════════╬══╬══╬══╬══╬═\n",
      "                                                ║  ║  ║  ║  ║ \n",
      " c_1: 0 ════════════════════════════════════════╩══╬══╬══╬══╬═\n",
      "                                                   ║  ║  ║  ║ \n",
      " c_2: 0 ═══════════════════════════════════════════╩══╬══╬══╬═\n",
      "                                                      ║  ║  ║ \n",
      " c_3: 0 ══════════════════════════════════════════════╩══╬══╬═\n",
      "                                                         ║  ║ \n",
      " c_4: 0 ═════════════════════════════════════════════════╩══╬═\n",
      "                                                            ║ \n",
      " c_5: 0 ════════════════════════════════════════════════════╩═\n",
      "                                                              \n",
      "{'101000': 1024}\n"
     ]
    }
   ],
   "source": [
    "n = int(input(\"enter number of bits:\" ))\n",
    "cir=QuantumCircuit(n+1, n+1)\n",
    "bits = randomGen(n)\n",
    "print(bits)\n",
    "xH(bits)\n",
    "print (unknown(bits))\n",
    "\n",
    "simulator= Aer.get_backend('qasm_simulator')\n",
    "results= execute(cir, backend = simulator, shots= 1024).result()\n",
    "counts=results.get_counts()\n",
    "print(counts)"
   ]
  },
  {
   "cell_type": "code",
   "execution_count": null,
   "metadata": {},
   "outputs": [],
   "source": [
    "\n",
    "   "
   ]
  },
  {
   "cell_type": "markdown",
   "metadata": {},
   "source": []
  },
  {
   "cell_type": "markdown",
   "metadata": {},
   "source": []
  },
  {
   "cell_type": "code",
   "execution_count": null,
   "metadata": {},
   "outputs": [],
   "source": []
  }
 ],
 "metadata": {
  "kernelspec": {
   "display_name": "Python 3",
   "language": "python",
   "name": "python3"
  },
  "language_info": {
   "codemirror_mode": {
    "name": "ipython",
    "version": 3
   },
   "file_extension": ".py",
   "mimetype": "text/x-python",
   "name": "python",
   "nbconvert_exporter": "python",
   "pygments_lexer": "ipython3",
   "version": "3.7.4"
  }
 },
 "nbformat": 4,
 "nbformat_minor": 2
}
