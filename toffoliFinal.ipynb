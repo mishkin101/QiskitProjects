{
 "cells": [
  {
   "cell_type": "code",
   "execution_count": 1,
   "metadata": {},
   "outputs": [],
   "source": [
    "from qiskit import IBMQ\n",
    "from qiskit import *\n",
    "from math import pi"
   ]
  },
  {
   "cell_type": "code",
   "execution_count": 32,
   "metadata": {},
   "outputs": [
    {
     "name": "stdout",
     "output_type": "stream",
     "text": [
      "how many quibits: 5\n"
     ]
    }
   ],
   "source": [
    "bits = int(input(\"how many quibits: \"))\n",
    "qn = QuantumRegister(n+1)\n",
    "cr = ClassicalRegister(n+1)\n",
    "cir = QuantumCircuit(qn, cr)\n"
   ]
  },
  {
   "cell_type": "code",
   "execution_count": 33,
   "metadata": {},
   "outputs": [
    {
     "data": {
      "text/plain": [
       "<qiskit.circuit.instructionset.InstructionSet at 0x226a1c18608>"
      ]
     },
     "execution_count": 33,
     "metadata": {},
     "output_type": "execute_result"
    }
   ],
   "source": [
    "cir.h(qn[0])\n",
    "cir.cu1(pi/2, qn[bits-1], qn[0])\n",
    "\n",
    "for pos in range(n-1):\n",
    "    cir.cu1(pi, qn[pos], qn[pos-1])\n",
    "    \n",
    "cir.cu1(-pi/2, qn[pos-1], qn[0])\n",
    "\n",
    "for i in range(n-1):\n",
    "    cir.cu1(pi, qn[pos], qn[bits-1])\n",
    "    \n",
    "for i in range(1, n-1):\n",
    "    cir.cu1(pi/2, qn[pos], qn[0])\n",
    "cir.h(qn[0])"
   ]
  },
  {
   "cell_type": "code",
   "execution_count": 35,
   "metadata": {},
   "outputs": [
    {
     "data": {
      "text/html": [
       "<pre style=\"word-wrap: normal;white-space: pre;background: #fff0;line-height: 1.1;font-family: &quot;Courier New&quot;,Courier,monospace\">         ┌───┐                                                                 »\n",
       "q5_0: |0>┤ H ├─■─────────■────■─────────■────────────────────────────■─────────»\n",
       "         └───┘ │         │    │pi       │-pi/-pi/2       ┌─┐     ┌─┐ │         »\n",
       "q5_1: |0>──────┼─────────┼────■────■────■────────────────┤M├─────┤M├─┼─────────»\n",
       "               │         │         │pi                   └╥┘     └╥┘ │pi/pi/2  »\n",
       "q5_2: |0>──────┼─────────┼─────────■────────■────────■────╫──■────╫──■─────────»\n",
       "          ┌─┐  │     ┌─┐ │                  │        │    ║  │    ║            »\n",
       "q5_3: |0>─┤M├──┼─────┤M├─┼──────────────────┼────────┼────╫──┼────╫────────────»\n",
       "          └╥┘  │pi/2 └╥┘ │pi                │pi      │pi  ║  │pi  ║     ┌─┐    »\n",
       "q5_4: |0>──╫───■──────╫──■──────────────────■────────■────╫──■────╫─────┤M├────»\n",
       "           ║          ║                                   ║       ║     └╥┘    »\n",
       " c5_0: 0 ══╬══════════╬═══════════════════════════════════╬═══════╬══════╬═════»\n",
       "           ║          ║                                   ║       ║      ║     »\n",
       " c5_1: 0 ══╬══════════╬═══════════════════════════════════╩═══════╩══════╬═════»\n",
       "           ║          ║                                                  ║     »\n",
       " c5_2: 0 ══╬══════════╬══════════════════════════════════════════════════╬═════»\n",
       "           ║          ║                                                  ║     »\n",
       " c5_3: 0 ══╩══════════╩══════════════════════════════════════════════════╬═════»\n",
       "                                                                         ║     »\n",
       " c5_4: 0 ════════════════════════════════════════════════════════════════╩═════»\n",
       "                                                                               »\n",
       "«                 ┌───┐┌─┐   ┌─┐\n",
       "«q5_0: ─■─────────┤ H ├┤M├───┤M├\n",
       "«       │         └───┘└╥┘   └╥┘\n",
       "«q5_1: ─┼───────────────╫─────╫─\n",
       "«       │pi/pi/2   ┌─┐  ║ ┌─┐ ║ \n",
       "«q5_2: ─■──────────┤M├──╫─┤M├─╫─\n",
       "«                  └╥┘  ║ └╥┘ ║ \n",
       "«q5_3: ─────────────╫───╫──╫──╫─\n",
       "«          ┌─┐      ║   ║  ║  ║ \n",
       "«q5_4: ────┤M├──────╫───╫──╫──╫─\n",
       "«          └╥┘      ║   ║  ║  ║ \n",
       "«c5_0: ═════╬═══════╬═══╩══╬══╩═\n",
       "«           ║       ║      ║    \n",
       "«c5_1: ═════╬═══════╬══════╬════\n",
       "«           ║       ║      ║    \n",
       "«c5_2: ═════╬═══════╩══════╩════\n",
       "«           ║                   \n",
       "«c5_3: ═════╬═══════════════════\n",
       "«           ║                   \n",
       "«c5_4: ═════╩═══════════════════\n",
       "«                               </pre>"
      ],
      "text/plain": [
       "<qiskit.visualization.text.TextDrawing at 0x226a1bb43c8>"
      ]
     },
     "execution_count": 35,
     "metadata": {},
     "output_type": "execute_result"
    }
   ],
   "source": [
    "#print(algorithm(cir))\n",
    "cir.measure(qn, cr)\n",
    "cir.draw()"
   ]
  },
  {
   "cell_type": "code",
   "execution_count": null,
   "metadata": {},
   "outputs": [],
   "source": []
  },
  {
   "cell_type": "code",
   "execution_count": null,
   "metadata": {},
   "outputs": [],
   "source": []
  }
 ],
 "metadata": {
  "kernelspec": {
   "display_name": "Python 3",
   "language": "python",
   "name": "python3"
  },
  "language_info": {
   "codemirror_mode": {
    "name": "ipython",
    "version": 3
   },
   "file_extension": ".py",
   "mimetype": "text/x-python",
   "name": "python",
   "nbconvert_exporter": "python",
   "pygments_lexer": "ipython3",
   "version": "3.7.4"
  }
 },
 "nbformat": 4,
 "nbformat_minor": 2
}
