{
 "cells": [
  {
   "cell_type": "markdown",
   "metadata": {},
   "source": [
    "# Quantum Binary Adders\n",
    "Quantum FRI, Fall 2018"
   ]
  },
  {
   "cell_type": "code",
   "execution_count": 1,
   "metadata": {},
   "outputs": [],
   "source": [
    "import qiskit\n",
    "import numpy as np\n",
    "import math\n",
    "from HW5supplemental import *"
   ]
  },
  {
   "cell_type": "markdown",
   "metadata": {},
   "source": [
    "### Calculating Fourier Transforms\n",
    "\n",
    "Let $N = 2^n$. Let $\\omega$ be an $N$'th root of unity:\n",
    "$$ \\omega = e^{\\frac{2\\pi i}{N}} \\hspace{1cm} \\omega^N = 1$$\n",
    "\n",
    "The following property of roots of unity is useful:\n",
    "$$\\sum_{x = 0}^{N-1} \\omega^x = 0 \\hspace{5mm}\\to\\hspace{5mm} \\sum_{x=0}^{N-1} \\omega^{xy} = 0 \\text{ if } y\\neq 0 \\text{ mod }N, \\text{ else } N $$\n",
    "\n",
    "$$\\sum_{x = 0}^{N-1} \\omega^{x f(y)} |y\\rangle \\propto \\sum_{\\substack{f(y) = 0\\\\ \\text{mod }N}}^{y \\text{ where}} |y\\rangle$$\n",
    "\n",
    "This comes in handy when studying how the QFT behaves. In particular, we can use it to calculate the quantum fourier transform $U_\\text{QFT}$ acts on some states. For example:\n",
    "$$U_\\text{QFT}|x\\rangle = \\frac{1}{\\sqrt{N}} \\sum^{2^n-1}_{y=0}  \\omega^{xy} |y\\rangle$$\n",
    "\n",
    "$$U_\\text{QFT} \\frac{1}{\\sqrt{N}} \\sum_{x=0}^N \\omega^{x} |x\\rangle = \\frac{1}{N} \\sum_{y=0}^N \\sum_{x=0}^N \\omega^{(1+y)x} |y\\rangle \\propto \\sum_{\\substack{1+y=0\\\\\\text{mod }N}}^{y \\text{ where}} |y\\rangle = |N-1\\rangle $$\n"
   ]
  },
  {
   "cell_type": "markdown",
   "metadata": {},
   "source": [
    "### 1. Quantum Fourier Transform\n",
    "\n",
    "q is a list of quantum bits storing an integer $x \\in \\{0 ... (2^n-1)\\}$ where $n$ = len(q) in little-endian format. Call this $n$-qubit state $|x\\rangle$.\n",
    "\n",
    "\n",
    "Implement $U_\\text{QFT}$ on this register. See lecture 10, slide 11."
   ]
  },
  {
   "cell_type": "code",
   "execution_count": 2,
   "metadata": {
    "scrolled": true
   },
   "outputs": [],
   "source": [
    "def qft(qc, q):\n",
    "    \n",
    "    n = len(q)\n",
    "    \n",
    "    for bit in range(n-1, -1, -1):\n",
    "        qc.h(q[bit])\n",
    "        for bit2 in range(bit-1, -1, -1):\n",
    "            qc.cu1(2*np.pi*2**(-(bit-bit2+1)), q[bit2], q[bit])\n",
    "            \n",
    "    for l in range(int(np.floor(n/2))):\n",
    "        qc.swap(q[l], q[n-1-l])"
   ]
  },
  {
   "cell_type": "markdown",
   "metadata": {},
   "source": [
    "### 2. Inverse Quantum Fourier Transform\n",
    "\n",
    "As can be readily computed:\n",
    "$$U_\\text{QFT}^\\dagger|x\\rangle = \\frac{1}{\\sqrt{N}} \\sum^{N-1}_{y=0}  \\omega^{-xy} |y\\rangle$$\n",
    "\n",
    "Calculate:\n",
    "$$U^\\dagger_\\text{QFT} \\frac{1}{\\sqrt{N}} \\sum_{x=0}^{N-1} \\omega^{x} |x\\rangle = ??$$\n",
    "\n",
    "Implement qft_inv in the placeholder below."
   ]
  },
  {
   "cell_type": "code",
   "execution_count": 3,
   "metadata": {},
   "outputs": [],
   "source": [
    "def qft_inv(qc, q):\n",
    "    n = len(q)\n",
    "    \n",
    "    for l in range(int(np.floor(n/2))):\n",
    "        qc.swap(q[l], q[n-1-l])\n",
    "    \n",
    "    for j in range(n):\n",
    "        for k in range(j):\n",
    "            qc.cu1(-2*np.pi*2**(-(j-k+1)), q[k], q[j])\n",
    "        qc.h(q[j])"
   ]
  },
  {
   "cell_type": "markdown",
   "metadata": {},
   "source": [
    "### 3. Problem Removed"
   ]
  },
  {
   "cell_type": "markdown",
   "metadata": {},
   "source": [
    "### 4. General purpose quantum adder\n",
    "\n",
    "Implement a function that applies the unitary:\n",
    "\n",
    "$$U_\\text{add}|x\\rangle_\\text{input}|y\\rangle_\\text{output}= |x\\rangle_\\text{input}|y + x \\text{ mod }2^m\\rangle_\\text{output}$$\n",
    "\n",
    "where $x$ is an $n$-bit integer and $y$ is an $m$-bit integer. \n",
    "\n",
    "Use the Fourier transform trick from lecture:\n",
    "$$U_\\text{add} =U^\\dagger_\\text{qft} U_\\text{phase} U_\\text{qft}$$\n",
    "\n",
    "$$\\text{where }  U_\\text{phase}|x\\rangle|y\\rangle = \\omega^{xy} |x\\rangle |y\\rangle $$"
   ]
  },
  {
   "cell_type": "code",
   "execution_count": 4,
   "metadata": {},
   "outputs": [
    {
     "name": "stdout",
     "output_type": "stream",
     "text": [
      "U_add |0>|0> = |0>|0> Correct!\n",
      "U_add |0>|1> = |0>|1> Correct!\n",
      "U_add |0>|2> = |0>|2> Correct!\n",
      "U_add |0>|3> = |0>|3> Correct!\n",
      "U_add |1>|0> = |1>|1> Correct!\n",
      "U_add |1>|1> = |1>|2> Correct!\n",
      "U_add |1>|2> = |1>|3> Correct!\n",
      "U_add |1>|3> = |1>|0> Correct!\n",
      "U_add |2>|0> = |2>|2> Correct!\n",
      "U_add |2>|1> = |2>|3> Correct!\n",
      "U_add |2>|2> = |2>|0> Correct!\n",
      "U_add |2>|3> = |2>|1> Correct!\n",
      "U_add |3>|0> = |3>|3> Correct!\n",
      "U_add |3>|1> = |3>|0> Correct!\n",
      "U_add |3>|2> = |3>|1> Correct!\n",
      "U_add |3>|3> = |3>|2> Correct!\n",
      "U_add |4>|0> = |4>|0> Correct!\n",
      "U_add |4>|1> = |4>|1> Correct!\n",
      "U_add |4>|2> = |4>|2> Correct!\n",
      "U_add |4>|3> = |4>|3> Correct!\n",
      "U_add |5>|0> = |5>|1> Correct!\n",
      "U_add |5>|1> = |5>|2> Correct!\n",
      "U_add |5>|2> = |5>|3> Correct!\n",
      "U_add |5>|3> = |5>|0> Correct!\n",
      "U_add |6>|0> = |6>|2> Correct!\n",
      "U_add |6>|1> = |6>|3> Correct!\n",
      "U_add |6>|2> = |6>|0> Correct!\n",
      "U_add |6>|3> = |6>|1> Correct!\n",
      "U_add |7>|0> = |7>|3> Correct!\n",
      "U_add |7>|1> = |7>|0> Correct!\n",
      "U_add |7>|2> = |7>|1> Correct!\n",
      "U_add |7>|3> = |7>|2> Correct!\n"
     ]
    }
   ],
   "source": [
    "def add(qc, qs_input, qs_output):\n",
    "    qft(qc, qs_output)\n",
    "    N = 2**(len(qs_output))\n",
    "    \n",
    "    for i in range(len(qs_input)):\n",
    "        for j in range(len(qs_output)):\n",
    "            qc.cu1(2 * math.pi * N**(-1) * 2**(i + j), qs_input[i], qs_output[j])\n",
    "    \n",
    "    qft_inv(qc, qs_output)\n",
    "\n",
    "def test2(add):\n",
    "    n = 3\n",
    "    m = 2\n",
    "    for x in range(2**n):\n",
    "        for y in range(2**m):\n",
    "            qc, c, qs_input, qs_output = makeIntegerCircuit(n, x, m, y)\n",
    "            \n",
    "            add(qc, qs_input, qs_output)\n",
    "            \n",
    "            \n",
    "            x_out, y_out = measureIntegerCircuit(qc,c,qs_input, qs_output)\n",
    "            print(\"U_add |\"+str(x)+\">|\"+str(y)+\"> = |\"+str(x_out)+\">|\"+str(y_out)+\">\", \\\n",
    "                  \"WRONG!\" if (y_out != (x+y) % 2**m or x != x_out) else \"Correct!\")\n",
    "\n",
    "test2(add)"
   ]
  },
  {
   "cell_type": "markdown",
   "metadata": {},
   "source": [
    "### 5. General purpose quantum subtracter\n",
    "Implement a function that applies the unitary:\n",
    "\n",
    "$$U_\\text{add}|x\\rangle_\\text{input}|y\\rangle_\\text{output}= |x\\rangle_\\text{input}|y - x \\text{ mod }2^n\\rangle_\\text{output}$$\n"
   ]
  },
  {
   "cell_type": "code",
   "execution_count": 5,
   "metadata": {},
   "outputs": [
    {
     "name": "stdout",
     "output_type": "stream",
     "text": [
      "U_subtract |0>|0> = |0>|0> Correct!\n",
      "U_subtract |0>|1> = |0>|1> Correct!\n",
      "U_subtract |0>|2> = |0>|2> Correct!\n",
      "U_subtract |0>|3> = |0>|3> Correct!\n",
      "U_subtract |1>|0> = |1>|3> Correct!\n",
      "U_subtract |1>|1> = |1>|0> Correct!\n",
      "U_subtract |1>|2> = |1>|1> Correct!\n",
      "U_subtract |1>|3> = |1>|2> Correct!\n",
      "U_subtract |2>|0> = |2>|2> Correct!\n",
      "U_subtract |2>|1> = |2>|3> Correct!\n",
      "U_subtract |2>|2> = |2>|0> Correct!\n",
      "U_subtract |2>|3> = |2>|1> Correct!\n",
      "U_subtract |3>|0> = |3>|1> Correct!\n",
      "U_subtract |3>|1> = |3>|2> Correct!\n",
      "U_subtract |3>|2> = |3>|3> Correct!\n",
      "U_subtract |3>|3> = |3>|0> Correct!\n",
      "U_subtract |4>|0> = |4>|0> Correct!\n",
      "U_subtract |4>|1> = |4>|1> Correct!\n",
      "U_subtract |4>|2> = |4>|2> Correct!\n",
      "U_subtract |4>|3> = |4>|3> Correct!\n",
      "U_subtract |5>|0> = |5>|3> Correct!\n",
      "U_subtract |5>|1> = |5>|0> Correct!\n",
      "U_subtract |5>|2> = |5>|1> Correct!\n",
      "U_subtract |5>|3> = |5>|2> Correct!\n",
      "U_subtract |6>|0> = |6>|2> Correct!\n",
      "U_subtract |6>|1> = |6>|3> Correct!\n",
      "U_subtract |6>|2> = |6>|0> Correct!\n",
      "U_subtract |6>|3> = |6>|1> Correct!\n",
      "U_subtract |7>|0> = |7>|1> Correct!\n",
      "U_subtract |7>|1> = |7>|2> Correct!\n",
      "U_subtract |7>|2> = |7>|3> Correct!\n",
      "U_subtract |7>|3> = |7>|0> Correct!\n"
     ]
    }
   ],
   "source": [
    "def subtract(qc, qs_input, qs_output):\n",
    "    qft(qc, qs_output)\n",
    "    \n",
    "    N = 2**(len(qs_output))\n",
    "    for i in range(len(qs_input)):\n",
    "        for j in range(len(qs_output)):\n",
    "            qc.cu1(-2 * math.pi * N**(-1) * 2**(i + j), qs_input[i], qs_output[j])\n",
    "    \n",
    "    qft_inv(qc, qs_output)\n",
    "\n",
    "def test3(subtract):\n",
    "    n = 3\n",
    "    m = 2\n",
    "    for x in range(2**n):\n",
    "        for y in range(2**m):\n",
    "            qc, c, qs_input, qs_output = makeIntegerCircuit(n, x, m, y)\n",
    "            \n",
    "            subtract(qc, qs_input, qs_output)\n",
    "            \n",
    "            x_out, y_out = measureIntegerCircuit(qc,c,qs_input, qs_output)\n",
    "            print(\"U_subtract |\"+str(x)+\">|\"+str(y)+\"> = |\"+str(x_out)+\">|\"+str(y_out)+\">\", \\\n",
    "                  \"WRONG!\" if (y_out != (y-x) % 2**m or x != x_out) else \"Correct!\")\n",
    "\n",
    "test3(subtract)"
   ]
  },
  {
   "cell_type": "code",
   "execution_count": null,
   "metadata": {},
   "outputs": [],
   "source": []
  }
 ],
 "metadata": {
  "kernelspec": {
   "display_name": "Python 3",
   "language": "python",
   "name": "python3"
  },
  "language_info": {
   "codemirror_mode": {
    "name": "ipython",
    "version": 3
   },
   "file_extension": ".py",
   "mimetype": "text/x-python",
   "name": "python",
   "nbconvert_exporter": "python",
   "pygments_lexer": "ipython3",
   "version": "3.7.4"
  }
 },
 "nbformat": 4,
 "nbformat_minor": 2
}
